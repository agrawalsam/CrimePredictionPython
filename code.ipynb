{
 "cells": [
  {
   "cell_type": "code",
   "execution_count": 71,
   "metadata": {},
   "outputs": [],
   "source": [
    "import numpy as np\n",
    "import matplotlib.pyplot as plt \n",
    "import pandas as pd"
   ]
  },
  {
   "cell_type": "code",
   "execution_count": 72,
   "metadata": {},
   "outputs": [
    {
     "name": "stdout",
     "output_type": "stream",
     "text": [
      "<bound method DataFrame.info of           AREA.NAME                                         CrmCd.Desc  \\\n",
      "610737      West LA                                       TRAFFIC DR #   \n",
      "622545      Pacific                                       TRAFFIC DR #   \n",
      "149923    Hollywood                                  ATTEMPTED ROBBERY   \n",
      "430518  77th Street                                       TRAFFIC DR #   \n",
      "863526      Pacific  VANDALISM - FELONY ($400 & OVER, ALL CHURCH VA...   \n",
      "...             ...                                                ...   \n",
      "412694      Central                                       TRAFFIC DR #   \n",
      "901192      Pacific                              BURGLARY FROM VEHICLE   \n",
      "909037      Rampart                                       TRAFFIC DR #   \n",
      "279476    Southeast                                          PANDERING   \n",
      "201944      Mission                                       TRAFFIC DR #   \n",
      "\n",
      "          DATE.OCC  TIME.OCC  \n",
      "610737  03/14/2014      2130  \n",
      "622545  09/01/2014      2230  \n",
      "149923  05/16/2012      1410  \n",
      "430518  07/06/2013      2000  \n",
      "863526  04/16/2015       816  \n",
      "...            ...       ...  \n",
      "412694  08/02/2013      2300  \n",
      "901192  02/20/2015      1800  \n",
      "909037  02/08/2015      1050  \n",
      "279476  02/28/2013      1315  \n",
      "201944  02/26/2012      1645  \n",
      "\n",
      "[10000 rows x 4 columns]>\n"
     ]
    }
   ],
   "source": [
    "#reading dataset with datetime\n",
    "losdata = pd.read_csv(\"losangeles.csv\",parse_dates=True)  \n",
    "losdata = losdata.dropna() #drops NaN values\n",
    "losdata = losdata.sample(n=10000, replace=True) #choosing 10000 random instance\n",
    "losdata = losdata.loc[:,[\"AREA.NAME\",\"CrmCd.Desc\",\"DATE.OCC\",\"TIME.OCC\"]] #subset important columns\n",
    "print(losdata.info)"
   ]
  },
  {
   "cell_type": "code",
   "execution_count": 73,
   "metadata": {},
   "outputs": [
    {
     "name": "stdout",
     "output_type": "stream",
     "text": [
      "             OFFENSE_CATEGORY_ID  FIRST_OCCURRENCE_DATE NEIGHBORHOOD_ID  \\\n",
      "415171  theft-from-motor-vehicle   7/26/2019 4:30:00 PM         hampden   \n",
      "156469           public-disorder   3/29/2016 6:45:00 AM    country-club   \n",
      "402245                auto-theft  12/28/2015 3:30:00 PM         kennedy   \n",
      "373396  theft-from-motor-vehicle  10/23/2016 8:00:00 PM       stapleton   \n",
      "350867                auto-theft  12/29/2015 8:30:00 PM        westwood   \n",
      "\n",
      "        IS_CRIME  \n",
      "415171         1  \n",
      "156469         1  \n",
      "402245         1  \n",
      "373396         1  \n",
      "350867         1  \n"
     ]
    }
   ],
   "source": [
    "#reading dataset for denver dataset\n",
    "denverdata = pd.read_csv(\"crime.csv\", parse_dates=True)\n",
    "denverdata = denverdata.dropna() #drops NaN values\n",
    "denverdata = denverdata.sample(n=10000, replace=True) #choosing 10000 random instance\n",
    "denverdata = denverdata.loc[:,[\"OFFENSE_CATEGORY_ID\",\"FIRST_OCCURRENCE_DATE\",\"NEIGHBORHOOD_ID\",\"IS_CRIME\"]] #subset important columns\n",
    "denverdata = denverdata[denverdata[\"IS_CRIME\"]==1]\n",
    "print(denverdata.head())"
   ]
  },
  {
   "cell_type": "code",
   "execution_count": 74,
   "metadata": {},
   "outputs": [
    {
     "name": "stdout",
     "output_type": "stream",
     "text": [
      "          AREA.NAME                                         CrmCd.Desc  \\\n",
      "610737      West LA                                       TRAFFIC DR #   \n",
      "622545      Pacific                                       TRAFFIC DR #   \n",
      "149923    Hollywood                                  ATTEMPTED ROBBERY   \n",
      "430518  77th Street                                       TRAFFIC DR #   \n",
      "863526      Pacific  VANDALISM - FELONY ($400 & OVER, ALL CHURCH VA...   \n",
      "\n",
      "          DATE.OCC  TIME.OCC Crime_Day Crime_Month  \n",
      "610737  03/14/2014      2130        14          03  \n",
      "622545  09/01/2014      2230        01          09  \n",
      "149923  05/16/2012      1410        16          05  \n",
      "430518  07/06/2013      2000        06          07  \n",
      "863526  04/16/2015       816        16          04  \n"
     ]
    }
   ],
   "source": [
    "#FOR CRIME_DAY AND CRIME_MONTH in losdataset\n",
    "losdata[\"Crime_Day\"] = losdata[\"DATE.OCC\"].str.split('/').str[1]\n",
    "losdata[\"Crime_Month\"] = losdata[\"DATE.OCC\"].str.split('/').str[0]\n",
    "print(losdata.head())"
   ]
  },
  {
   "cell_type": "code",
   "execution_count": 75,
   "metadata": {},
   "outputs": [
    {
     "name": "stdout",
     "output_type": "stream",
     "text": [
      "             OFFENSE_CATEGORY_ID FIRST_OCCURRENCE_DATE NEIGHBORHOOD_ID  \\\n",
      "415171  theft-from-motor-vehicle   2019-07-26 16:30:00         hampden   \n",
      "156469           public-disorder   2016-03-29 06:45:00    country-club   \n",
      "402245                auto-theft   2015-12-28 15:30:00         kennedy   \n",
      "373396  theft-from-motor-vehicle   2016-10-23 20:00:00       stapleton   \n",
      "350867                auto-theft   2015-12-29 20:30:00        westwood   \n",
      "\n",
      "       Crime_Day Crime_Month  \n",
      "415171        26          07  \n",
      "156469        29          03  \n",
      "402245        28          12  \n",
      "373396        23          10  \n",
      "350867        29          12  \n"
     ]
    }
   ],
   "source": [
    "#FOR CRIME_DAY AND CRIME_MONTH in denverdataset\n",
    "del denverdata[\"IS_CRIME\"]\n",
    "denverdata['FIRST_OCCURRENCE_DATE'] =  pd.to_datetime(denverdata['FIRST_OCCURRENCE_DATE'])\n",
    "denverdata[\"Crime_Day\"] = denverdata[\"FIRST_OCCURRENCE_DATE\"].dt.date.astype(str).str.split('-').str[2]\n",
    "denverdata[\"Crime_Month\"] = denverdata[\"FIRST_OCCURRENCE_DATE\"].dt.date.astype(str).str.split('-').str[1]\n",
    "print(denverdata.head())"
   ]
  },
  {
   "cell_type": "code",
   "execution_count": 76,
   "metadata": {},
   "outputs": [
    {
     "name": "stdout",
     "output_type": "stream",
     "text": [
      "       Crime_Location                                         Crime_Type  \\\n",
      "610737        West LA                                       TRAFFIC DR #   \n",
      "622545        Pacific                                       TRAFFIC DR #   \n",
      "149923      Hollywood                                  ATTEMPTED ROBBERY   \n",
      "430518    77th Street                                       TRAFFIC DR #   \n",
      "863526        Pacific  VANDALISM - FELONY ($400 & OVER, ALL CHURCH VA...   \n",
      "\n",
      "        TIME.OCC Crime_Day Crime_Month  \n",
      "610737      2130        14          03  \n",
      "622545      2230        01          09  \n",
      "149923      1410        16          05  \n",
      "430518      2000        06          07  \n",
      "863526       816        16          04  \n"
     ]
    }
   ],
   "source": [
    "del losdata[\"DATE.OCC\"]\n",
    "#renaming columns in losdataset to match the format \n",
    "losdata = losdata.rename(columns={\"AREA.NAME\":\"Crime_Location\", \"CrmCd.Desc\":\"Crime_Type\"})\n",
    "print(losdata.head())"
   ]
  },
  {
   "cell_type": "code",
   "execution_count": 77,
   "metadata": {},
   "outputs": [
    {
     "name": "stdout",
     "output_type": "stream",
     "text": [
      "                      Crime_Type FIRST_OCCURRENCE_DATE Crime_Location  \\\n",
      "415171  theft-from-motor-vehicle   2019-07-26 16:30:00        hampden   \n",
      "156469           public-disorder   2016-03-29 06:45:00   country-club   \n",
      "402245                auto-theft   2015-12-28 15:30:00        kennedy   \n",
      "373396  theft-from-motor-vehicle   2016-10-23 20:00:00      stapleton   \n",
      "350867                auto-theft   2015-12-29 20:30:00       westwood   \n",
      "\n",
      "       Crime_Day Crime_Month  \n",
      "415171        26          07  \n",
      "156469        29          03  \n",
      "402245        28          12  \n",
      "373396        23          10  \n",
      "350867        29          12  \n"
     ]
    }
   ],
   "source": [
    "#renaming the columns in denverdataset to match the format\n",
    "denverdata = denverdata.rename(columns={\"OFFENSE_CATEGORY_ID\":\"Crime_Type\",\"NEIGHBORHOOD_ID\":\"Crime_Location\"})\n",
    "print(denverdata.head())"
   ]
  },
  {
   "cell_type": "code",
   "execution_count": 78,
   "metadata": {},
   "outputs": [
    {
     "name": "stdout",
     "output_type": "stream",
     "text": [
      "       Crime_Location                                         Crime_Type  \\\n",
      "610737        West LA                                       TRAFFIC DR #   \n",
      "622545        Pacific                                       TRAFFIC DR #   \n",
      "149923      Hollywood                                  ATTEMPTED ROBBERY   \n",
      "430518    77th Street                                       TRAFFIC DR #   \n",
      "863526        Pacific  VANDALISM - FELONY ($400 & OVER, ALL CHURCH VA...   \n",
      "\n",
      "       Crime_Day Crime_Month Crime_Time  \n",
      "610737        14          03         T6  \n",
      "622545        01          09         T6  \n",
      "149923        16          05         T4  \n",
      "430518        06          07         T5  \n",
      "863526        16          04         T2  \n"
     ]
    }
   ],
   "source": [
    "#FOR CRIME_TIME in los dataset\n",
    "h = lambda x: \"T1\" if(x>=100 and x<500) else(\"T2\" \n",
    "                if(x>=500 and x<900) else(\"T3\" \n",
    "                if(x>=900 and x<1300) else(\"T4\" \n",
    "                if(x>=1300 and x<1700) else(\"T5\" \n",
    "                if(x>=1700 and x<2100) else \"T6\"))))\n",
    "\n",
    "losdata['Crime_Time'] = list(map(h,losdata['TIME.OCC']))\n",
    "\n",
    "del losdata['TIME.OCC']\n",
    "print(losdata.head())"
   ]
  },
  {
   "cell_type": "code",
   "execution_count": 60,
   "metadata": {},
   "outputs": [
    {
     "name": "stdout",
     "output_type": "stream",
     "text": [
      "int64\n",
      "<bound method NDFrame.describe of 253481    17\n",
      "52336      0\n",
      "362197    16\n",
      "307835    21\n",
      "6963      18\n",
      "          ..\n",
      "323129    17\n",
      "203436     0\n",
      "500145    20\n",
      "474742    21\n",
      "72312     11\n",
      "Name: Crime_Time, Length: 9974, dtype: int64>\n",
      "[ 0  1  2  3  4  5  6  7  8  9 10 11 12 13 14 15 16 17 18 19 20 21 22 23]\n",
      "['T1' 'T2' 'T3' 'T4' 'T5' 'T6']\n"
     ]
    }
   ],
   "source": [
    "# denverdata[\"Crime_Time\"] = denverdata[\"FIRST_OCCURRENCE_DATE\"].dt.hour\n",
    "# print(denverdata['Crime_Time'].dtype)\n",
    "# print(denverdata['Crime_Time'].describe)\n",
    "# print(np.unique(denverdata['Crime_Time']))\n",
    "# i = lambda x: \"T1\" if(x>=1 and x<5) else(\"T2\" \n",
    "#                 if(x>=5 and x<9) else(\"T3\" \n",
    "#                 if(x>=9 and x<13) else(\"T4\" \n",
    "#                 if(x>=13 and x<17) else(\"T5\" \n",
    "#                 if(x>=17 and x<21) else \"T6\"))))\n",
    "\n",
    "# print(np.unique(list(map(i,denverdata['Crime_Time']))))"
   ]
  },
  {
   "cell_type": "code",
   "execution_count": 79,
   "metadata": {},
   "outputs": [
    {
     "name": "stdout",
     "output_type": "stream",
     "text": [
      "                      Crime_Type Crime_Location Crime_Day Crime_Month  \\\n",
      "415171  theft-from-motor-vehicle        hampden        26          07   \n",
      "156469           public-disorder   country-club        29          03   \n",
      "402245                auto-theft        kennedy        28          12   \n",
      "373396  theft-from-motor-vehicle      stapleton        23          10   \n",
      "350867                auto-theft       westwood        29          12   \n",
      "\n",
      "       Crime_Time  \n",
      "415171         T4  \n",
      "156469         T2  \n",
      "402245         T4  \n",
      "373396         T5  \n",
      "350867         T5  \n"
     ]
    }
   ],
   "source": [
    "#FOR CRIME_TIME in denverdataset\n",
    "denverdata[\"Crime_Time\"] = denverdata[\"FIRST_OCCURRENCE_DATE\"].dt.hour\n",
    "\n",
    "i = lambda x: \"T1\" if(x>=1 and x<5) else(\"T2\" \n",
    "                if(x>=5 and x<9) else(\"T3\" \n",
    "                if(x>=9 and x<13) else(\"T4\" \n",
    "                if(x>=13 and x<17) else(\"T5\" \n",
    "                if(x>=17 and x<21) else \"T6\"))))\n",
    "\n",
    "denverdata['Crime_Time'] = list(map(i,denverdata['Crime_Time']))\n",
    "\n",
    "del denverdata[\"FIRST_OCCURRENCE_DATE\"]\n",
    "print(denverdata.head())"
   ]
  },
  {
   "cell_type": "code",
   "execution_count": 80,
   "metadata": {},
   "outputs": [
    {
     "name": "stdout",
     "output_type": "stream",
     "text": [
      "<bound method NDFrame.describe of 415171    T4\n",
      "156469    T2\n",
      "402245    T4\n",
      "373396    T5\n",
      "350867    T5\n",
      "          ..\n",
      "175414    T2\n",
      "351338    T2\n",
      "284742    T4\n",
      "289452    T3\n",
      "185715    T2\n",
      "Name: Crime_Time, Length: 9982, dtype: object>\n"
     ]
    }
   ],
   "source": [
    "print(denverdata['Crime_Time'].describe)"
   ]
  },
  {
   "cell_type": "code",
   "execution_count": 81,
   "metadata": {},
   "outputs": [
    {
     "name": "stdout",
     "output_type": "stream",
     "text": [
      "       Crime_Location    Crime_Type Crime_Day Crime_Month Crime_Time  \\\n",
      "610737        West LA  DRUG ALCOHOL        14          03         T6   \n",
      "622545        Pacific  DRUG ALCOHOL        01          09         T6   \n",
      "149923      Hollywood         THEFT        16          05         T4   \n",
      "430518    77th Street  DRUG ALCOHOL        06          07         T5   \n",
      "863526        Pacific         THEFT        16          04         T2   \n",
      "\n",
      "        Crime_Type_Id  \n",
      "610737              2  \n",
      "622545              2  \n",
      "149923              5  \n",
      "430518              2  \n",
      "863526              5  \n"
     ]
    }
   ],
   "source": [
    "#FOR CRIME_TYPE in losdataset\n",
    "j = lambda x: \"THEFT\" if(x.find(\"BURGALORY\")>0 or x.find(\"ROBBERY\")>0 or x.find(\"THEFT\")>0 or \n",
    "               x.find(\"STOLEN\")>0 or x.find(\"SNATCHING\")>0 or x.find(\"STEALING\")>0 or \n",
    "               x.find(\"FELONY\")>0 or x.find(\"PICKPOCKET\")>0 or x.find(\"BUNCO\")>0 or\n",
    "               x.find(\"EMBEZZLEMENT\")>0) else (\"ASSAULT\" \n",
    "            if (x.find(\"ASSAULT\")>0 or x.find(\"BATTERY\")>0 or x.find(\"VANDALISM\")>0 or \n",
    "                 x.find(\"SCARE\")>0 or x.find(\"THREATS\")>0 or x.find(\"ABUSE\")>0 or x.find(\"SHOTS\")>0 or \n",
    "                 x.find(\"SEXUAL\")>0 or x.find(\"THROWING\")>0 or x.find(\"COPULATION\")>0 or \n",
    "                 x.find(\"EXTORTION\")>0 or x.find(\"STALKING\")>0 or x.find(\"KIDNAPPING\")>0 or \n",
    "                 x.find(\"ENDANGERMENT\")>0 or x.find(\"ANNOYING\")>0 or x.find(\"HOMICIDE\")>0 )else (\"DRUG ALCOHOL\" \n",
    "    if (x.find(\"DR\")>0 or x.find(\"BRANDISH\")>0 or x.find(\"WEAPON\")>0 or x.find(\"LEAD\")>0) else(\"PUBLIC DISORDER\" \n",
    "    if (x.find(\"DISTURBING\")>0 or x.find(\"ARSON\")>0) else(\"OTHER CRIMES\" \n",
    "    if (x.find(\"TRESPASSING\")>0 or x.find(\"CRUELTY\")>0 or x.find(\"WITHOUT\")>0) else \"WHITE COLLAR CRIMES\"))))\n",
    "\n",
    "losdata[\"Crime_Type\"] = list(map(j,losdata[\"Crime_Type\"]))\n",
    "\n",
    "g = lambda x: 5 if x==\"THEFT\" else( 1\n",
    "            if x==\"ASSAULT\" else( 2\n",
    "            if x==\"DRUG ALCOHOL\" else (4\n",
    "            if x==\"PUBLIC DISORDER\" else( 3\n",
    "            if x==\"OTHER CRIMES\" else 6 ))))\n",
    "\n",
    "losdata['Crime_Type_Id'] = list(map(g,losdata['Crime_Type']))\n",
    "\n",
    "print(losdata.head())"
   ]
  },
  {
   "cell_type": "code",
   "execution_count": 82,
   "metadata": {},
   "outputs": [
    {
     "name": "stdout",
     "output_type": "stream",
     "text": [
      "             Crime_Type Crime_Location Crime_Day Crime_Month Crime_Time  \\\n",
      "415171            THEFT        hampden        26          07         T4   \n",
      "156469  PUBLIC DISORDER   country-club        29          03         T2   \n",
      "402245            THEFT        kennedy        28          12         T4   \n",
      "373396            THEFT      stapleton        23          10         T5   \n",
      "350867            THEFT       westwood        29          12         T5   \n",
      "\n",
      "        Crime_Type_Id  \n",
      "415171              5  \n",
      "156469              4  \n",
      "402245              5  \n",
      "373396              5  \n",
      "350867              5  \n"
     ]
    }
   ],
   "source": [
    "#FOR CRIME_TYPE in denver dataset\n",
    "f = lambda x: \"ASSAULT\" if(x.find(\"assault\")>0 or x.find(\"sexual\")>0) else (\"DRUG ALCOHOL\" \n",
    "            if(x.find(\"drug\")>0 or x.find(\"alcohol\")>0) else ( \"OTHER CRIMES\" \n",
    "            if(x.find(\"other-crimes\")>0) else ( \"PUBLIC DISORDER\" \n",
    "            if(x.find(\"public\")>0 or x.find(\"disorder\")>0) else ( \"WHITE COLLAR CRIMES\" \n",
    "            if(x.find(\"white\")>0 or x.find(\"collar-crime\")>0) else \"THEFT\"))))\n",
    "denverdata[\"Crime_Type\"] = list(map(f,denverdata['Crime_Type']))\n",
    "\n",
    "denverdata['Crime_Type_Id'] = list(map(g,denverdata['Crime_Type']))\n",
    "\n",
    "print(denverdata.head())"
   ]
  },
  {
   "cell_type": "code",
   "execution_count": 92,
   "metadata": {},
   "outputs": [
    {
     "name": "stderr",
     "output_type": "stream",
     "text": [
      "/home/srix/anaconda3/lib/python3.7/site-packages/ipykernel_launcher.py:14: SettingWithCopyWarning: \n",
      "A value is trying to be set on a copy of a slice from a DataFrame.\n",
      "Try using .loc[row_indexer,col_indexer] = value instead\n",
      "\n",
      "See the caveats in the documentation: http://pandas.pydata.org/pandas-docs/stable/user_guide/indexing.html#returning-a-view-versus-a-copy\n",
      "  \n",
      "/home/srix/anaconda3/lib/python3.7/site-packages/ipykernel_launcher.py:18: SettingWithCopyWarning: \n",
      "A value is trying to be set on a copy of a slice from a DataFrame.\n",
      "Try using .loc[row_indexer,col_indexer] = value instead\n",
      "\n",
      "See the caveats in the documentation: http://pandas.pydata.org/pandas-docs/stable/user_guide/indexing.html#returning-a-view-versus-a-copy\n",
      "/home/srix/anaconda3/lib/python3.7/site-packages/ipykernel_launcher.py:30: SettingWithCopyWarning: \n",
      "A value is trying to be set on a copy of a slice from a DataFrame.\n",
      "Try using .loc[row_indexer,col_indexer] = value instead\n",
      "\n",
      "See the caveats in the documentation: http://pandas.pydata.org/pandas-docs/stable/user_guide/indexing.html#returning-a-view-versus-a-copy\n",
      "/home/srix/anaconda3/lib/python3.7/site-packages/ipykernel_launcher.py:34: SettingWithCopyWarning: \n",
      "A value is trying to be set on a copy of a slice from a DataFrame.\n",
      "Try using .loc[row_indexer,col_indexer] = value instead\n",
      "\n",
      "See the caveats in the documentation: http://pandas.pydata.org/pandas-docs/stable/user_guide/indexing.html#returning-a-view-versus-a-copy\n"
     ]
    }
   ],
   "source": [
    "#Splitting Data into testing and training \n",
    "from sklearn import preprocessing\n",
    "\n",
    "#Losdatset splitting\n",
    "le = preprocessing.LabelEncoder()\n",
    "df = pd.DataFrame(np.random.randn(len(losdata), 2)) \n",
    "msk = np.random.rand(len(df)) < 0.8\n",
    "\n",
    "train = losdata[msk]\n",
    "test = losdata[~msk]\n",
    "\n",
    "for column_name in train.columns:\n",
    "        if train[column_name].dtype == object:\n",
    "            train[column_name] = le.fit_transform(train[column_name])\n",
    "\n",
    "for column_name in test.columns:\n",
    "        if test[column_name].dtype == object:\n",
    "            test[column_name] = le.fit_transform(test[column_name])\n",
    "\n",
    "#DenverDataset Splitting\n",
    "le2 = preprocessing.LabelEncoder()\n",
    "df2 = pd.DataFrame(np.random.randn(len(denverdata), 2))\n",
    "msk2  = np.random.rand(len(df2)) < 0.8\n",
    "\n",
    "train2 = denverdata[msk2]\n",
    "test2 = denverdata[~msk2]\n",
    "\n",
    "for column_name in train2.columns:\n",
    "        if train2[column_name].dtype == object:\n",
    "            train2[column_name] = le2.fit_transform(train2[column_name])\n",
    "\n",
    "for column_name in test2.columns:\n",
    "        if test2[column_name].dtype == object:\n",
    "            test2[column_name] = le2.fit_transform(test2[column_name])"
   ]
  },
  {
   "cell_type": "code",
   "execution_count": 93,
   "metadata": {},
   "outputs": [
    {
     "name": "stdout",
     "output_type": "stream",
     "text": [
      "========LOS ANGELES==============\n",
      "Accuracy - 0.5503560528992879\n",
      "[[   0  217    0    0    0]\n",
      " [   0 1082    0    0    0]\n",
      " [   0    5    0    0    0]\n",
      " [   0  177    0    0    0]\n",
      " [   0  485    0    0    0]]\n",
      "----------------------------------\n"
     ]
    }
   ],
   "source": [
    "#Naive Bayes for LosAngeles Dataset\n",
    "from sklearn.naive_bayes import GaussianNB\n",
    "from sklearn.metrics import accuracy_score\n",
    "from sklearn.metrics import confusion_matrix\n",
    "\n",
    "print('========LOS ANGELES==============')\n",
    "naiveclf = GaussianNB()\n",
    "naiveclf.fit(train.loc[:,['Crime_Location','Crime_Day','Crime_Month','Crime_Time']],\n",
    "             train.loc[:,\"Crime_Type_Id\"])\n",
    "target_pred = naiveclf.predict(test.loc[:,['Crime_Location', 'Crime_Day', 'Crime_Month','Crime_Time']])\n",
    "print(\"Accuracy -\",accuracy_score(test.loc[:,\"Crime_Type_Id\"], target_pred, normalize=True))\n",
    "print(confusion_matrix(test.loc[:,[\"Crime_Type_Id\"]], target_pred))\n",
    "print('----------------------------------')"
   ]
  },
  {
   "cell_type": "code",
   "execution_count": 94,
   "metadata": {},
   "outputs": [
    {
     "name": "stdout",
     "output_type": "stream",
     "text": [
      "========DENVER====================\n",
      "Accuracy - 0.7669322709163346\n",
      "[[   0    0    0    0   48    0]\n",
      " [   0    0    0    0    9    0]\n",
      " [   0    0    0    0   62    0]\n",
      " [   0    0    0    0  301    0]\n",
      " [   0    0    0    0 1540    0]\n",
      " [   0    0    0    0   48    0]]\n",
      "----------------------------------\n"
     ]
    }
   ],
   "source": [
    "#Naive Bayes for Denver Dataset\n",
    "print('========DENVER====================')\n",
    "naiveclf2 = GaussianNB()\n",
    "naiveclf2.fit(train2.loc[:,['Crime_Location', 'Crime_Day', 'Crime_Month','Crime_Time']],\n",
    "              train2.loc[:,\"Crime_Type_Id\"])\n",
    "target_pred2 = naiveclf2.predict(test2.loc[:,['Crime_Location', 'Crime_Day', 'Crime_Month','Crime_Time']])\n",
    "print(\"Accuracy -\",accuracy_score(test2.loc[:,\"Crime_Type_Id\"], target_pred2, normalize=True))\n",
    "print(confusion_matrix(test2.loc[:,\"Crime_Type_Id\"], target_pred2))\n",
    "print('----------------------------------')"
   ]
  },
  {
   "cell_type": "code",
   "execution_count": 95,
   "metadata": {
    "scrolled": true
   },
   "outputs": [
    {
     "name": "stdout",
     "output_type": "stream",
     "text": [
      "========LOS ANGELES==============\n",
      "Accuracy - 0.4150559511698881\n",
      "[[ 33 117   0  19  48]\n",
      " [108 645   0  87 242]\n",
      " [  0   4   0   0   1]\n",
      " [ 23  84   0  28  42]\n",
      " [ 54 272   0  49 110]]\n",
      "=================================\n"
     ]
    }
   ],
   "source": [
    "#Decision Tree for LosAngeles Dataset\n",
    "from sklearn import tree\n",
    "# from sklearn.externals.six import StringIO  \n",
    "# from IPython.display import Image  \n",
    "# from sklearn.tree import export_graphviz\n",
    "# import graphviz\n",
    "# import pydotplus\n",
    "\n",
    "print('========LOS ANGELES==============')\n",
    "model = tree.DecisionTreeClassifier() \n",
    "model.fit(train.iloc[:,[0,2,3,4]],train.iloc[:,5])\n",
    "decision_pred = model.predict(test.iloc[:,[0,2,3,4]])\n",
    "print(\"Accuracy -\",accuracy_score(test.iloc[:,5], decision_pred, normalize=True))\n",
    "print(confusion_matrix(test.iloc[:,5], decision_pred))\n",
    "print('=================================')\n",
    "# plotting decision tree, usually takes a lot of time. Uncomment other lines to plot\n",
    "\n",
    "# dot_data = StringIO()\n",
    "# export_graphviz(model, out_file=dot_data, \n",
    "#                 feature_names=['Crime_Location', 'Crime_Day', 'Crime_Month','Crime_Time'], \n",
    "#                 class_names=[\"1\",\"2\",\"3\",\"4\",\"5\",\"6\"],\n",
    "#                 filled=True, rounded=True,\n",
    "#                 special_characters=True)\n",
    "# graph = pydotplus.graph_from_dot_data(dot_data.getvalue())  \n",
    "# Image(graph.create_png())"
   ]
  },
  {
   "cell_type": "code",
   "execution_count": 96,
   "metadata": {},
   "outputs": [
    {
     "name": "stdout",
     "output_type": "stream",
     "text": [
      "========DENVER====================\n",
      "Accuracy - 0.5981075697211156\n",
      "[[   5    0    3    6   34    0]\n",
      " [   0    0    0    4    5    0]\n",
      " [   3    0   10   10   38    1]\n",
      " [   6    1    7   66  207   14]\n",
      " [  31   10   61  274 1115   49]\n",
      " [   0    0    3    3   37    5]]\n",
      "==================================\n"
     ]
    }
   ],
   "source": [
    "#decision tree for denver dataset\n",
    "print('========DENVER====================')\n",
    "model2 = tree.DecisionTreeClassifier() \n",
    "model2.fit(train2.iloc[:,[1,2,3,4]],train2.iloc[:,5])\n",
    "decision_pred2 = model2.predict(test2.iloc[:,[1,2,3,4]])\n",
    "print(\"Accuracy -\",accuracy_score(test2.iloc[:,5], decision_pred2, normalize=True))\n",
    "print(confusion_matrix(test2.iloc[:,5], decision_pred2))\n",
    "print('==================================')\n",
    "# dot_data2 = StringIO()\n",
    "# export_graphviz(model2, out_file=dot_data2, \n",
    "#                 feature_names=['Crime_Location', 'Crime_Day', 'Crime_Month','Crime_Time'], \n",
    "#                 class_names=[\"1\",\"2\",\"3\",\"4\",\"5\",\"6\"],\n",
    "#                 filled=True, rounded=True,\n",
    "#                 special_characters=True)\n",
    "# graph2 = pydotplus.graph_from_dot_data(dot_data2.getvalue())  \n",
    "# Image(graph2.create_png())"
   ]
  },
  {
   "cell_type": "code",
   "execution_count": 97,
   "metadata": {},
   "outputs": [
    {
     "name": "stdout",
     "output_type": "stream",
     "text": [
      "[0.50550579 0.06076133 0.02367404 0.41005884]\n",
      "========LOS ANGELES==============\n",
      "Accuracy - 0.5503560528992879\n",
      "[[   0  217    0    0    0]\n",
      " [   0 1082    0    0    0]\n",
      " [   0    5    0    0    0]\n",
      " [   0  177    0    0    0]\n",
      " [   0  485    0    0    0]]\n",
      "=================================\n"
     ]
    }
   ],
   "source": [
    "#RandomForest for LosAngeles Dataset\n",
    "from sklearn.ensemble import RandomForestClassifier\n",
    "clf4 = RandomForestClassifier(n_estimators=100, max_depth=2,random_state=0)\n",
    "clf4.fit(train.iloc[:,[0,2,3,4]],train.iloc[:,5])\n",
    "print(clf4.feature_importances_)\n",
    "losforest_pred = clf4.predict(test.iloc[:,[0,2,3,4]])\n",
    "print('========LOS ANGELES==============')\n",
    "print(\"Accuracy -\",accuracy_score(test.iloc[:,5], losforest_pred, normalize=True))\n",
    "print(confusion_matrix(test.iloc[:,5], losforest_pred))\n",
    "print('=================================')"
   ]
  },
  {
   "cell_type": "code",
   "execution_count": 98,
   "metadata": {},
   "outputs": [
    {
     "name": "stdout",
     "output_type": "stream",
     "text": [
      "[0.27681441 0.1127179  0.33224711 0.27822057]\n",
      "========DENVER====================\n",
      "Accuracy - 0.7669322709163346\n",
      "[[   5    0    3    6   34    0]\n",
      " [   0    0    0    4    5    0]\n",
      " [   3    0   10   10   38    1]\n",
      " [   6    1    7   66  207   14]\n",
      " [  31   10   61  274 1115   49]\n",
      " [   0    0    3    3   37    5]]\n",
      "==================================\n"
     ]
    }
   ],
   "source": [
    "#Random Forest for Denver Dataset\n",
    "clf3 = RandomForestClassifier(n_estimators=100, max_depth=2,random_state=0)\n",
    "clf3.fit(train2.iloc[:,[1,2,3,4]],train2.iloc[:,5])\n",
    "print(clf3.feature_importances_)       #finding importance of features\n",
    "denverforest_pred = clf3.predict(test2.iloc[:,[1,2,3,4]])\n",
    "print('========DENVER====================')\n",
    "print(\"Accuracy -\",accuracy_score(test2.iloc[:,5], denverforest_pred, normalize=True))\n",
    "print(confusion_matrix(test2.iloc[:,5], decision_pred2))\n",
    "print('==================================')"
   ]
  },
  {
   "cell_type": "code",
   "execution_count": 17,
   "metadata": {},
   "outputs": [],
   "source": [
    "# #apriori algorithm \n",
    "# from apyori import apriori\n",
    "# records = []\n",
    "# for i in range(0, len(losdata)):\n",
    "#     records.append([str(losdata.values[i,j]) for j in range(0, 6)])\n",
    "# association_rules = apriori(records, min_support=0.0018, min_confidence=0.50, min_lift=3, min_length=2)\n",
    "# association_results = list(association_rules)\n",
    "# print(len(association_results))\n",
    "# for item in association_results:\n",
    "#     # first index of the inner list\n",
    "#     # Contains base item and add item\n",
    "#     pair = item[0]\n",
    "#     items = [x for x in pair]\n",
    "#     print(\"Rule: \" + str(list(item.ordered_statistics[0].items_base)) + \" -> \" + str(list(item.ordered_statistics[0].items_add)))\n",
    "#     #second index of the inner list\n",
    "#     print(\"Support: \" + str(item[1]))\n",
    "#     #third index of the list located at 0th\n",
    "#     #of the third index of the inner list\n",
    "#     print(\"Confidence: \" + str(item[2][0][2]))\n",
    "#     print(\"=====================================\")"
   ]
  },
  {
   "cell_type": "code",
   "execution_count": 18,
   "metadata": {},
   "outputs": [],
   "source": [
    "# records2 = []\n",
    "# for i in range(0, len(denverdata)):\n",
    "#     records2.append([str(denverdata.values[i,j]) for j in range(0, 6)])\n",
    "# association_rules2 = apriori(records2, min_support=0.0018, min_confidence=0.50, min_lift=3, min_length=2)\n",
    "# association_results2 = list(association_rules2)\n",
    "# print(len(association_results2))\n",
    "# for item2 in association_results2:\n",
    "#     # first index of the inner list\n",
    "#     # Contains base item and add item\n",
    "#     pair2 = item2[0]\n",
    "#     items2 = [x for x in pair2]\n",
    "#     print(\"Rule: \" + str(list(item2.ordered_statistics[0].items_base)) + \" -> \" + str(list(item2.ordered_statistics[0].items_add)))\n",
    "#     #second index of the inner list\n",
    "#     print(\"Support: \" + str(item2[1]))\n",
    "#     #third index of the list located at 0th\n",
    "#     #of the third index of the inner list\n",
    "#     print(\"Confidence: \" + str(item2[2][0][2]))\n",
    "#     print(\"=====================================\")"
   ]
  }
 ],
 "metadata": {
  "kernelspec": {
   "display_name": "Python 3",
   "language": "python",
   "name": "python3"
  },
  "language_info": {
   "codemirror_mode": {
    "name": "ipython",
    "version": 3
   },
   "file_extension": ".py",
   "mimetype": "text/x-python",
   "name": "python",
   "nbconvert_exporter": "python",
   "pygments_lexer": "ipython3",
   "version": "3.7.5"
  }
 },
 "nbformat": 4,
 "nbformat_minor": 2
}
